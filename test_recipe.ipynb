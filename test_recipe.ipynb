{
 "cells": [
  {
   "cell_type": "code",
   "execution_count": 1,
   "metadata": {},
   "outputs": [],
   "source": [
    "import json"
   ]
  },
  {
   "cell_type": "code",
   "execution_count": 2,
   "metadata": {},
   "outputs": [],
   "source": [
    "filename1 = \"recipes_raw_nosource_ar.json\" \n",
    "filename2 = \"recipes_raw_nosource_epi.json\" \n",
    "filename3 = \"recipes_raw_nosource_fn.json\" "
   ]
  },
  {
   "cell_type": "code",
   "execution_count": 3,
   "metadata": {},
   "outputs": [],
   "source": [
    "with open(filename1, \"r\") as json_file:\n",
    "    data = json.load(json_file)"
   ]
  },
  {
   "cell_type": "code",
   "execution_count": 4,
   "metadata": {},
   "outputs": [],
   "source": [
    "#data"
   ]
  },
  {
   "cell_type": "code",
   "execution_count": 5,
   "metadata": {},
   "outputs": [],
   "source": [
    "# for value in data.values():\n",
    "#     print(value[\"ingredients\"])"
   ]
  },
  {
   "cell_type": "code",
   "execution_count": 6,
   "metadata": {},
   "outputs": [],
   "source": [
    "ingredients = {}\n",
    "instructions = {}\n",
    "check = False\n",
    "for recipe in data.values():\n",
    "    \n",
    "    for keys in recipe.keys():\n",
    "        if keys == \"title\":\n",
    "            check = True\n",
    "   \n",
    "    if check == True:\n",
    "        title = recipe[\"title\"] \n",
    "    else:\n",
    "        continue\n",
    "        \n",
    "    check = False\n",
    "    \n",
    "    ingredients[title] = recipe[\"ingredients\"]\n",
    "    instructions[title] = recipe[\"instructions\"]\n",
    "    "
   ]
  },
  {
   "cell_type": "code",
   "execution_count": 7,
   "metadata": {},
   "outputs": [],
   "source": [
    "for ingre_list in ingredients.values():\n",
    "    for i in range(len(ingre_list)):\n",
    "        ingre_list[i] = ingre_list[i].strip(\"ADVERTISEMENT \")"
   ]
  },
  {
   "cell_type": "code",
   "execution_count": 8,
   "metadata": {},
   "outputs": [],
   "source": [
    "#ingredients"
   ]
  },
  {
   "cell_type": "code",
   "execution_count": 9,
   "metadata": {},
   "outputs": [],
   "source": [
    "#instructions"
   ]
  },
  {
   "cell_type": "code",
   "execution_count": 21,
   "metadata": {},
   "outputs": [],
   "source": [
    "with open(\"test_words.txt\",\"w\") as f:\n",
    "    \n",
    "    count=0\n",
    "    for title in instructions:\n",
    "        if count == 50:\n",
    "            break;\n",
    "        new_string = instructions[title].replace(\"\\n\", \" \")\n",
    "        #print(title)\n",
    "        for token in new_string.strip().split(\" \"):\n",
    "            if token[-1] == \",\":\n",
    "                f.write(token[:-1] + \"\\n\"+ token[-1] + \"\\n\")\n",
    "            elif token[-1] == \".\":\n",
    "                f.write(token[:-1] + \"\\n\"+ token[-1] + \"\\n\\n\")\n",
    "            else:\n",
    "                f.write(token + \"\\n\")\n",
    "        count+=1\n",
    "\n",
    "f.close()"
   ]
  },
  {
   "cell_type": "code",
   "execution_count": 11,
   "metadata": {},
   "outputs": [],
   "source": [
    "noun_list = []\n",
    "ftr = open(\"output.txt\", 'r')\n",
    "for line in ftr:\n",
    "    \n",
    "    if line in ['\\n', '\\r\\n']:\n",
    "        continue\n",
    "        \n",
    "    word, tag = line.strip().split('\\t')\n",
    "    \n",
    "    if \"NN\" in tag:\n",
    "        noun_list.append(word)\n"
   ]
  },
  {
   "cell_type": "code",
   "execution_count": 12,
   "metadata": {},
   "outputs": [
    {
     "data": {
      "text/plain": [
       "['chicken',\n",
       " 'butter',\n",
       " 'soup',\n",
       " 'onion',\n",
       " 'water',\n",
       " 'Cover',\n",
       " 'hours',\n",
       " 'High',\n",
       " 'minutes',\n",
       " 'place',\n",
       " 'biscuit',\n",
       " 'dough',\n",
       " 'cooker',\n",
       " 'Cook',\n",
       " 'dough',\n",
       " 'center']"
      ]
     },
     "execution_count": 12,
     "metadata": {},
     "output_type": "execute_result"
    }
   ],
   "source": [
    "noun_list"
   ]
  },
  {
   "cell_type": "code",
   "execution_count": 13,
   "metadata": {},
   "outputs": [],
   "source": [
    "#get recipes text - DONT DELETE LOL\n",
    "\n",
    "# with open ('recipes_training.txt','w') as f:\n",
    "#     for title in ingredients:\n",
    "#         f.write(title+'\\n')\n",
    "#         for ingre in ingredients[title]:\n",
    "#             f.write(ingre+'\\n')\n",
    "#         for instr in instructions[title]:\n",
    "#             f.write(instr+'\\n')"
   ]
  },
  {
   "cell_type": "code",
   "execution_count": null,
   "metadata": {},
   "outputs": [],
   "source": []
  }
 ],
 "metadata": {
  "kernelspec": {
   "display_name": "Python 3",
   "language": "python",
   "name": "python3"
  },
  "language_info": {
   "codemirror_mode": {
    "name": "ipython",
    "version": 3
   },
   "file_extension": ".py",
   "mimetype": "text/x-python",
   "name": "python",
   "nbconvert_exporter": "python",
   "pygments_lexer": "ipython3",
   "version": "3.7.3"
  }
 },
 "nbformat": 4,
 "nbformat_minor": 4
}
