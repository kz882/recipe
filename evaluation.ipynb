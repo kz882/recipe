{
 "cells": [
  {
   "cell_type": "markdown",
   "metadata": {},
   "source": [
    "# Evaluate the system\n",
    "\n",
    "Overview:\n",
    "\n",
    "1. We have a list of recipes and an generated list of tools known as \"system output\"\n",
    "2. Human annotaters agree on a list of tools known as \"answer key\"\n",
    "3. For the two lists, compare the results\n",
    "4. For each recipe, we have a precision, recall, f-1 score"
   ]
  },
  {
   "cell_type": "code",
   "execution_count": 60,
   "metadata": {},
   "outputs": [],
   "source": [
    "import pandas as pd"
   ]
  },
  {
   "cell_type": "code",
   "execution_count": 61,
   "metadata": {},
   "outputs": [],
   "source": [
    "#open file\n",
    "def open_file(filename):\n",
    "    output = {}\n",
    "    new_recipe = 1\n",
    "    number = -1\n",
    "    tools = []\n",
    "\n",
    "    with open (filename) as f:\n",
    "        lines = f.readlines()\n",
    "        for line in lines:\n",
    "\n",
    "            if line in ['\\n','\\r\\n']:\n",
    "                output[number] = tools\n",
    "                new_recipe = 1\n",
    "                tools = []\n",
    "                continue\n",
    "\n",
    "            if new_recipe == 1:\n",
    "                stuff = line.split('\\t')\n",
    "                print(stuff)\n",
    "                number = stuff[0]\n",
    "                title = stuff[1]\n",
    "                new_recipe = 0\n",
    "\n",
    "            else:\n",
    "                tools.append(line.strip())\n",
    "    \n",
    "    return output"
   ]
  },
  {
   "cell_type": "code",
   "execution_count": 62,
   "metadata": {},
   "outputs": [
    {
     "name": "stdout",
     "output_type": "stream",
     "text": [
      "['1', 'chicken\\n']\n",
      "['2', 'boiled egg\\n']\n",
      "['3', 'biscuit\\n']\n",
      "['1', 'chicken\\n']\n",
      "['2', 'boiled egg\\n']\n",
      "['3', 'biscuit\\n']\n"
     ]
    }
   ],
   "source": [
    "# parse lists from txt file\n",
    "# assume the txt is this format: first line: # and title of recipe, then each tool on each line, then empty line\n",
    "outputs = open_file('output_tools.txt')\n",
    "answers = open_file('answer_tools.txt')           "
   ]
  },
  {
   "cell_type": "code",
   "execution_count": 63,
   "metadata": {},
   "outputs": [
    {
     "data": {
      "text/plain": [
       "{'1': ['slow cooker'], '2': ['boiler', 'pan'], '3': ['oven', 'bowl']}"
      ]
     },
     "execution_count": 63,
     "metadata": {},
     "output_type": "execute_result"
    }
   ],
   "source": [
    "outputs"
   ]
  },
  {
   "cell_type": "code",
   "execution_count": 64,
   "metadata": {},
   "outputs": [
    {
     "data": {
      "text/plain": [
       "{'1': ['slow cooker', 'pan'], '2': ['boiler'], '3': ['oven', 'bowl']}"
      ]
     },
     "execution_count": 64,
     "metadata": {},
     "output_type": "execute_result"
    }
   ],
   "source": [
    "answers"
   ]
  },
  {
   "cell_type": "code",
   "execution_count": 65,
   "metadata": {},
   "outputs": [],
   "source": [
    "num_of_recipes = len(outputs)"
   ]
  },
  {
   "cell_type": "markdown",
   "metadata": {},
   "source": [
    "# analysis\n",
    "* precision = correct / length (system output)\n",
    "* recall = correct / length (answer key)\n",
    "* F-measure = 2 / (1/precision + 1/recall)"
   ]
  },
  {
   "cell_type": "code",
   "execution_count": 67,
   "metadata": {},
   "outputs": [],
   "source": [
    "analysis = pd.DataFrame(columns = [\"number\",\"title\",\"precision\", \"recall\", \"f-measure\"])"
   ]
  },
  {
   "cell_type": "code",
   "execution_count": 59,
   "metadata": {},
   "outputs": [],
   "source": [
    "for key in outputs:\n",
    "    num = key\n",
    "    output = outputs[num]\n",
    "    answer = answers[num]\n",
    "    correct = 0\n",
    "    length_output = len(output)\n",
    "    length_answer = len(answer)\n",
    "    \n",
    "    for i in output:\n",
    "        for j in answer:\n",
    "            if i==j:\n",
    "                correct += 1\n",
    "    \n",
    "    precision = correct/length_output\n",
    "    reacall = correct/length_answer\n",
    "    f-measure = 2 / (1/precision + 1/recall)\n",
    "    \n",
    "    analysis = analysis.append({'number': num, precisio})"
   ]
  },
  {
   "cell_type": "code",
   "execution_count": null,
   "metadata": {},
   "outputs": [],
   "source": []
  }
 ],
 "metadata": {
  "kernelspec": {
   "display_name": "Python 3",
   "language": "python",
   "name": "python3"
  },
  "language_info": {
   "codemirror_mode": {
    "name": "ipython",
    "version": 3
   },
   "file_extension": ".py",
   "mimetype": "text/x-python",
   "name": "python",
   "nbconvert_exporter": "python",
   "pygments_lexer": "ipython3",
   "version": "3.7.3"
  }
 },
 "nbformat": 4,
 "nbformat_minor": 4
}
