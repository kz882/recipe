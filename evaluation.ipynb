{
 "cells": [
  {
   "cell_type": "markdown",
   "metadata": {},
   "source": [
    "# Evaluate the system\n",
    "\n",
    "Overview:\n",
    "\n",
    "1. We have a list of recipes and an generated list of tools known as \"system output\"\n",
    "2. Human annotaters give a list of tools known as \"answer key\"\n",
    "3. For the two lists, compare the results\n",
    "4. For each recipe, we have a precision, recall, f-1 score"
   ]
  },
  {
   "cell_type": "code",
   "execution_count": null,
   "metadata": {},
   "outputs": [],
   "source": [
    "# parse lists from txt file\n",
    "# assume the txt is this format: first line: # and title of recipe, then each tool on each line, then empty line\n",
    "\n",
    "with open ('recipe_tools.txt') as f:\n",
    "    lines = f.read()\n",
    "    for line in lines:\n",
    "        if line in ['\\n','\\r\\n']:\n",
    "            "
   ]
  },
  {
   "cell_type": "markdown",
   "metadata": {},
   "source": [
    "# analysis\n",
    "* precision = correct / length (system output)\n",
    "* recall = correct / length (answer key)\n",
    "* F-measure = 2 / (1/precision + 1/recall)"
   ]
  },
  {
   "cell_type": "code",
   "execution_count": null,
   "metadata": {},
   "outputs": [],
   "source": []
  }
 ],
 "metadata": {
  "kernelspec": {
   "display_name": "Python 3",
   "language": "python",
   "name": "python3"
  },
  "language_info": {
   "codemirror_mode": {
    "name": "ipython",
    "version": 3
   },
   "file_extension": ".py",
   "mimetype": "text/x-python",
   "name": "python",
   "nbconvert_exporter": "python",
   "pygments_lexer": "ipython3",
   "version": "3.7.3"
  }
 },
 "nbformat": 4,
 "nbformat_minor": 4
}
